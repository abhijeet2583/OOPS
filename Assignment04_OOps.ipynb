{
  "nbformat": 4,
  "nbformat_minor": 0,
  "metadata": {
    "colab": {
      "provenance": []
    },
    "kernelspec": {
      "name": "python3",
      "display_name": "Python 3"
    },
    "language_info": {
      "name": "python"
    }
  },
  "cells": [
    {
      "cell_type": "markdown",
      "source": [
        "# Python OOPs Questions-\n",
        "\n",
        "1.  What is Object-Oriented Programming (OOP)?\n",
        "\n",
        "-   Object-Oriented Programming (OOP) in Python is a programming\n",
        "    paradigm that organizes software design around \"objects\" rather than \"functions and logic.\" It focuses on creating reusable and modular code by modeling real-world entities as objects, which encapsulate both data (attributes) and behavior (methods) related to that entity.\n",
        "\n",
        "2.  What is a class in OOP?\n",
        "-   A class acts as a blueprint or template that defines the    \n",
        "    structure and behavior of objects.\n",
        "\n",
        "    In object-oriented programming (OOP), a class is a blueprint or template for creating objects. It defines the properties (data) and behaviors (methods) that its instances, called objects, will possess.\n",
        "    eg-\n",
        "    \n",
        "    class vehicle:\n",
        "      \n",
        "      def start_engine(self):\n",
        "        \n",
        "        print(\" start engine of vehicle class\")\n",
        "\n",
        "    class car(vehicle)\n",
        "      \n",
        "      def start_engine(self):\n",
        "        print(\" start engine of car class\")\n",
        "\n",
        "    class truck(vehicle):\n",
        "      def start_engine(self):\n",
        "        print(\" start engine of truck class\")\n",
        "\n",
        "    obj1=car()  \n",
        "    obj1.start_engine()\n",
        "    obj2=truck()\n",
        "    obj2.start_engine()\n",
        "\n",
        "3.  What is an object in OOP?\n",
        "-   an object is an instance of a class. It represents a specific\n",
        "    entity based on the blueprint defined by the class.\n",
        "    For example, if you have a Car class, a Car object might have attributes like color, make, and model.\n",
        "    class Dog:\n",
        "    def __init__(self, name, breed):\n",
        "        self.name = name\n",
        "        self.breed = breed\n",
        "    \n",
        "    my_dog = Dog(\"Buddy\", \"Golden Retriever\")\n",
        "    my_dog.name // name invoke through my_dog object\n",
        "\n",
        "4.  What is the difference between abstraction and encapsulation?\n",
        "-   Abstraction,is the process of simplifying complex reality by\n",
        "    modeling classes based on essential properties and behaviors, while hiding unnecessary details.\n",
        "    In the vehicle example, interacting with different vehicle objects (car, bike)\n",
        "    # by calling the start_engine() method. we don't need to know the specific internal mechanisms of how a car engine starts and how a truck engine starts.\n",
        "    Here complexity is abstracted away, and we interact with a simplified interface (the start_engine and stop_engine method)only .\n",
        "\n",
        "    from abc import ABC,abstractmethod// abstraction is declared\n",
        "    class vehicle(ABC):\n",
        "      @abstractmethod // abstract method declared with @\n",
        "      def start_engine(self):\n",
        "        pass\n",
        "      @abstractmethod\n",
        "      def stop_engine(self):\n",
        "        pass\n",
        "\n",
        "    class car(vehicle):\n",
        "      def start_engine(self):\n",
        "        print(\"car engine started\")\n",
        "      def stop_engine(self):\n",
        "        print(\"car engine stopped\")\n",
        "\n",
        "    class bike(vehicle):\n",
        "      def start_engine(self):\n",
        "        print(\"bike engine started\")\n",
        "      def stop_engine(self):\n",
        "        print(\"bike engine stopped\")\n",
        "\n",
        "    car1=car()\n",
        "    car1.start_engine()\n",
        "    car1.stop_engine()\n",
        "    bike1=bike()\n",
        "    bike1.start_engine()\n",
        "    bike1.stop_engine()\n",
        "     \n",
        "    Encapsulation is the bundling of data and methods that operate on the data\n",
        "    # into a single unit (the object), and restricting access to some of the object's components.\n",
        "    # It is often described as \"data hiding\" or \"information hiding.\"\n",
        "    # It prevents direct access to attributes, forcing interactions through defined methods.\n",
        "\n",
        "    # In the Dog class above, the attributes (name, breed, color) and the method (bark)\n",
        "    # are encapsulated within the Dog object. You access the data (like the name)\n",
        "    # or call the method (bark) through the my_dog object.\n",
        "    # The internal details of how bark() works are hidden; you just call the method.\n",
        "\n",
        "    class Dog:// example for encapsulation\n",
        "      def __init__(self, name, breed,color):\n",
        "        self.__name = name\n",
        "        self.breed = breed\n",
        "        self.color=color\n",
        "    \n",
        "      def bark(self):\n",
        "        print(f\"{self.__name} {self.breed} {self.color} is barking!\")\n",
        "        \n",
        "      my_dog = Dog(\"Buddy\", \"Golden Retriever\",\"Red\")\n",
        "      my_dog.name\n",
        "      \n",
        "      AttributeError: 'Dog' object has no attribute 'name'\n",
        "      error received due to encapsulation performed over name.\n",
        "\n",
        "5.    What are dunder methods in Python?\n",
        "-     Dunder methods (short for \"double underscore methods\") are\n",
        "      special methods in Python that have names starting and ending with two underscores. They are also sometimes called \"magic methods\" or \"special methods\".\n",
        "      Eg __init__, __str__, __add__).\n",
        "      \n",
        "      class student:\n",
        "        def __new__(cls): // Dunder method\n",
        "          print(\"this will be executed before the init method\")\n",
        "      \n",
        "      def __init__(self,name):\n",
        "        self.name=name\n",
        "          print(f\"{self.name} will execute first when obj is created\")\n",
        "\n",
        "      obj1=student()\n",
        "\n",
        "6.    Explain the concept of inheritance in OOPs?\n",
        "-     \n",
        "\n",
        "    Inheritance in object-oriented programming (OOP) is a   \n",
        "    mechanism where a  \n",
        "    new class (the subclass or child class) is created based on an existing class (the superclass or parent class), inheriting its attributes and methods. This promotes code reusability and allows for creating a hierarchy of classes with shared functionality. Essentially, the subclass gets a \"head start\" by inheriting what the superclass has, and can also add its own unique characteristics.\n",
        "\n",
        "    eg-\n",
        "    \n",
        "    class Vehicle:\n",
        "    def __init__(self, color, numberOfWheels):\n",
        "        self.color = color\n",
        "        self.numberOfWheels = numberOfWheels\n",
        "    def start(self):\n",
        "        print(\"Starting the vehicle\")\n",
        "    def stop(self):\n",
        "        print(\"Stopping the vehicle\")\n",
        "\n",
        "    class Car(Vehicle):\n",
        "    def __init__(self, color, numberOfWheels, model):\n",
        "        super().__init__(color, numberOfWheels)\n",
        "        self.model = model\n",
        "    def start(self):\n",
        "      print(\"car engine start\")\n",
        "    def accelerate(self):\n",
        "        print(\"Accelerating the car\")   \n",
        "\n",
        "    obj1= Car(\"red\",4,\"BMW\")\n",
        "    obj1.start()\n",
        "    obj1.stop()\n",
        "    obj1.accelerate()\n",
        "    obj1.model\n",
        "\n",
        "7.  What is polymorphism in OOPS?\n",
        "\n",
        "-   Polymorphism in Object-Oriented Programming (OOP) in Python     \n",
        "    refers to the ability of an object to take on many forms. This means that a single entity, such as a function, method, or operator, can behave differently depending on the data type or object it is applied to\n",
        "\n",
        "    Key aaspect of Polymorphisim are :-\n",
        "    Method Overriding (Run-time Polymorphism):\n",
        "    This is the most common way polymorphism is demonstrated in Python. When a subclass provides a specific implementation for a method that is already defined in its superclass, it is called method overriding. The appropriate method is called at runtime based on the actual type of the object.\n",
        "    Operator Overloading:\n",
        "    Python allows operators (like +, -, *) to be redefined for custom classes. This enables these operators to perform different actions depending on the data types of the operands. For example, the + operator can perform addition for numbers and concatenation for strings.\n",
        "    \n",
        "    Duck Typing:\n",
        "    Python's dynamic nature and \"duck typing\" philosophy naturally support polymorphism. Duck typing states, \"If it walks like a duck and quacks like a duck, then it's a duck.\" This means that the type of an object is less important than whether it has the required methods or attributes to perform an operation. If multiple objects from different classes have a method with the same name, they can be treated polymorphically, allowing the same code to work with various object types.\n",
        "    \n",
        "    Method Overloading (Simulated in Python):\n",
        "    While Python does not support true method overloading (defining multiple methods with the same name but different parameter lists within the same class), it can be simulated using default arguments or variable-length argument lists (*args, **kwargs). This allows a single method to handle varying numbers or types of parameters.\n",
        "        \n",
        "    eg-\n",
        "    class teacher_leccture:\n",
        "      def lec_info(self)\n",
        "       print(\"lec info with teacher perspective\")\n",
        "\n",
        "    class student_lecture:\n",
        "      def lec_info(self)\n",
        "        print(\"lec info with student perspective\")\n",
        "\n",
        "    obj1=teacher_lecture()\n",
        "    obj2=student_lecture()\n",
        "\n",
        "    obj_lecture= [obj1,obj2]\n",
        "\n",
        "    def parcer(obj_lecture)\n",
        "        for i in obj_lecture:\n",
        "          i.lec_info()\n",
        "\n",
        "    parcer(obj_lecture)\n",
        "\n",
        "8.  How is encapsulation achieved in Python?\n",
        "\n",
        "-     class Dog:// example for encapsulation\n",
        "      def __init__(self, name, breed,color):\n",
        "        self.__name = name # Double underscore here\n",
        "        self.breed = breed\n",
        "        self.color=color\n",
        "\n",
        "      def bark(self):\n",
        "        print(f\"{self.__name} {self.breed} {self.color} is barking!\") # Using the mangled name\n",
        "\n",
        "      my_dog = Dog(\"Buddy\", \"Golden Retriever\",\"Red\")\n",
        "      my_dog.name # Attempting to access using the original name, error will occur \"the dog object has no attribute Name\"\n",
        "\n",
        "9.  What is a constructor in Python ?\n",
        "\n",
        "-   In Python, a constructor is a special method within a class\n",
        "    that is automatically invoked when a new instance (object) of that class is created. Its primary purpose is to initialize the attributes of the newly created object and set up its initial state.\n",
        "    Eg-\n",
        "\n",
        "    class Dog:\n",
        "    def __init__(self, name, breed):\n",
        "        self.name = name\n",
        "        self.breed = breed\n",
        "\n",
        "        my_dog = Dog(\"Buddy\", \"Golden Retriever\")\n",
        "\n",
        "10. What are class and static methods in Python?\n",
        "-   \n",
        "    Class method: class mehtod are bound to the class access/\n",
        "    modify methods and attributes associated to class across all\n",
        "    instances.\n",
        "\n",
        "    class student:\n",
        "      @class method\n",
        "      def student_detail(cls,name):\n",
        "        return cls(name)\n",
        "      \n",
        "      obj1=student.student_detail(\"Ajay\")\n",
        "\n",
        "    Static Method:\n",
        "    The method which can be called without any instance, self or\n",
        "    cls.\n",
        "\n",
        "    class math:\n",
        "      @staticmethod\n",
        "      def add(x,y):\n",
        "\n",
        "        return x+y\n",
        "\n",
        "    math.add(2,3)\n",
        "\n",
        "11. What is method overloading in Python?\n",
        "\n",
        "-   class Calculator:\n",
        "        def add(self, a, b=0):\n",
        "            return a + b\n",
        "\n",
        "    calc = Calculator()\n",
        "    print(calc.add(5))   # Output: 5 (b uses the default valueof 0)\n",
        "    print(calc.add(5, 3))   # Output: 8\n",
        "\n",
        "12. What is method overriding in OOP ?\n",
        "-   method in parent class and child class with the same signature\n",
        "    the child class method will be executed .\n",
        "\n",
        "    class Animal:\n",
        "      def sound(self):\n",
        "        print(\"Animal sound\")\n",
        "\n",
        "    class cat(Animal):\n",
        "      def sound(self):\n",
        "      print(\"cat sound Meow\")\n",
        "\n",
        "    obj1=Animal()\n",
        "    obj1.sound()\n",
        "    obj2=cat()\n",
        "    obj2.sound()    \n",
        "\n",
        "13. What is a property decorator in Python?\n",
        "\n",
        "-   It allows method to be accessed as attribute.\n",
        "\n",
        "    eg\n",
        "\n",
        "    Class circle:\n",
        "      def __init__(self,radius)\n",
        "        self.radius=radius\n",
        "      @property\n",
        "      def area(self)\n",
        "        radius=self.radius\n",
        "      return 3.14*radius**2\n",
        "\n",
        "  obj1=circle(5)\n",
        "  obj1.area // no need to give parenthensis\n",
        "\n",
        "14. Why is polymorphism important in OOP?\n",
        "-   Polymorphism is crucial in object-oriented programming because  \n",
        "    it allows objects of different classes to be treated as objects of a common type, promoting code reusability, flexibility, and maintainability. It enables methods to behave differently based on the object's actual class at runtime, which simplifies code and allows for easier extension of functionality.\n",
        "    Code Reusability:\n",
        "\n",
        "    Polymorphism allows you to write code that can work with objects of different classes through a common interface or superclass. This reduces redundancy and promotes the reuse of existing code.\n",
        "    Flexibility and Extensibility:\n",
        "    Polymorphism makes it easier to add new classes or modify existing ones without significantly altering the rest of the code. New subclasses can be created that inherit from a superclass and implement methods in their own way, without affecting the code that interacts with the superclass.\n",
        "    Maintainability:\n",
        "    By allowing for a more abstract and modular approach, polymorphism simplifies code maintenance. Changes to one part of the system are less likely to cause unexpected issues in other parts.\n",
        "    Readability:\n",
        "    Polymorphism can make code easier to read by using a single method name for similar operations across different classes. This reduces the need for complex conditional statements to handle different object types.\n",
        "    Enhanced Error Handling:\n",
        "    Polymorphism can contribute to better error handling. For example, if a method expects an object of a certain type and receives an object of a derived class, it can still handle it correctly, preventing unexpected runtime errors.\n",
        "\n",
        "15. What is an abstract class in Python?\n",
        "-   from abc import ABC, abstractmethod\n",
        "\n",
        "    class vehicle(ABC): # Inherits from ABC to be an abstract class\n",
        "      @abstractmethod # Declares an abstract method\n",
        "      def start_engine(self):\n",
        "        pass\n",
        "      @abstractmethod\n",
        "      def stop_engine(self):\n",
        "        pass\n",
        "\n",
        "    class car(vehicle): # Concrete subclass\n",
        "      def start_engine(self):\n",
        "        print(\"car engine started\")\n",
        "      def stop_engine(self):\n",
        "        print(\"car engine stopped\")\n",
        "\n",
        "    class bike(vehicle): # Concrete subclass\n",
        "      def start_engine(self):\n",
        "        print(\"bike engine started\")\n",
        "      def stop_engine(self):\n",
        "        print(\"bike engine stopped\")\n",
        "    # abstract_vehicle = vehicle() # This would raise an error\n",
        "    \n",
        "    car1=car()\n",
        "    car1.start_engine()\n",
        "    car1.stop_engine()\n",
        "    bike1=bike()\n",
        "    bike1.start_engine()\n",
        "    bike1.stop_engine()\n",
        "    o/p-\n",
        "    car engine started\n",
        "    car engine stopped\n",
        "    bike engine started\n",
        "    bike engine stopped\n",
        "\n",
        "16. What are the advantages of OOP?\n",
        "-   \n",
        "    Code Reusability: Inheritance allows new classes to inherit\n",
        "    attributes and methods from existing ones, reducing redundancy. Polymorphism allows code to work with objects of different classes through a common interface, promoting reuse.\n",
        "    \n",
        "    Flexibility and Extensibility:** Polymorphism makes it easier to add new classes or modify existing ones without significantly altering the rest of the code.\n",
        "    \n",
        "    Maintainability: Encapsulation bundles data and methods,making it easier to manage and modify parts of the code without affecting others. Polymorphism simplifies maintenance by allowing a more abstract and modular approach.\n",
        "    \n",
        "    Readability: Polymorphism can make code easier to read by using a single method name for similar operations across different classes.\n",
        "    \n",
        "    Enhanced Error Handling:** Polymorphism can contribute to better error handling by allowing methods to correctly handle objects of derived classes.\n",
        "\n",
        "17. What is the difference between a class variable and an instance\n",
        "    variable.\n",
        "\n",
        "-   Class Variable vs. Instance Variable\n",
        "\n",
        "    - Class variables are defined within the class but outside of any instance methods.\n",
        "    - They are shared by all instances of the class.\n",
        "    - They are typically used for attributes that are common to all instances of a class.\n",
        "\n",
        "    - Instance variables are defined inside an instance method (usually __init__).\n",
        "    - They are specific to each instance of the class.\n",
        "    - They are typically used for attributes that vary from one instance to another.\n",
        "    eg-\n",
        "      class MyClass:\n",
        "      # This is a class variable, shared by all instances\n",
        "      class_variable = \"I am a class variable\"\n",
        "\n",
        "      def __init__(self, instance_value):\n",
        "        # This is an instance variable, unique to each instance\n",
        "        self.instance_variable = instance_value\n",
        "\n",
        "    # Create instances of the class\n",
        "    obj1 = MyClass(\"Value for obj1\")\n",
        "    obj2 = MyClass(\"Value for obj2\")\n",
        "\n",
        "    # Accessing class variables\n",
        "    print(MyClass.class_variable) # Access using the class name\n",
        "    print(obj1.class_variable)    # Access using an instance (though less common for modification)\n",
        "    print(obj2.class_variable)\n",
        "\n",
        "    # Accessing instance variables\n",
        "    print(obj1.instance_variable)\n",
        "    print(obj2.instance_variable)\n",
        "\n",
        "    # Modifying a class variable affects all instances\n",
        "    MyClass.class_variable = \"Modified class variable\"\n",
        "    print(obj1.class_variable)\n",
        "    print(obj2.class_variable)\n",
        "\n",
        "    # Modifying an instance variable only affects that specific instance\n",
        "    obj1.instance_variable = \"Modified value for obj1\"\n",
        "    print(obj1.instance_variable)\n",
        "    print(obj2.instance_variable)\n",
        "\n",
        "    # If you assign a value to a class variable using an instance, it creates a new instance variable\n",
        "    # with the same name, effectively shadowing the class variable for that instance.\n",
        "    obj1.class_variable = \"Shadowed class variable for obj1\"\n",
        "    print(obj1.class_variable) # This is now the instance variable on obj1\n",
        "    print(obj2.class_variable) # This is still the original class variable\n",
        "    print(MyClass.class_variable) # The original class variable is unchanged.\n",
        "\n",
        "18. What is multiple inheritance in Python?\n",
        "\n",
        "-   one child class inherits the properties of multiple parent\n",
        "    class.\n",
        "\n",
        "    eg-\n",
        "\n",
        "    class Parentclass1:\n",
        "     def method1(self)\n",
        "      print(\"Method1 Parent class1\")\n",
        "\n",
        "    class Parentclass2:\n",
        "      def method2(self):\n",
        "        print(\"Method2 parent class2\")\n",
        "\n",
        "    class Childclass(Parentclass1,Parentclass2):\n",
        "     def method(self)\n",
        "      print(\"method of child class\")\n",
        "\n",
        "    c1=Childclass()\n",
        "    c1.method()\n",
        "    c1.Method1()\n",
        "    c1.method2()\n",
        "\n",
        "19. Explain the purpose of ‘’__str__' and ‘__repr__’ ‘ methods in\n",
        "    Python.\n",
        "\n",
        "-   __str__\n",
        "\n",
        "    its an Dunder method or magic method.\n",
        "\n",
        "    class MyClass:\n",
        "    def __init__(self, value):\n",
        "        self.value = value\n",
        "\n",
        "    def __str__(self):\n",
        "        return f\"MyClass object with value: {self.value}\"\n",
        "\n",
        "    obj = MyClass(10)\n",
        "    print(obj)        # Calls __str__\n",
        "    print(str(obj))   # Calls __str__\n",
        "\n",
        "    __repr__\n",
        "\n",
        "    the __repr__ method is designed to return an unambiguous string representation of an object.\n",
        "\n",
        "    class AnotherClass:\n",
        "    def __init__(self, name):\n",
        "        self.name = name\n",
        "\n",
        "    def __repr__(self):\n",
        "        return f\"AnotherClass(name='{self.name}')\"\n",
        "\n",
        "    obj2 = AnotherClass(\"Example\")\n",
        "    print(obj2) # Calls __repr__ because __str__ is not defined\n",
        "    print(repr(obj2)) # Calls __repr__\n",
        "\n",
        "\n",
        "20. What is the significance of the ‘super()’ function in Python?\n",
        "\n",
        "-   The super() function in Python holds significant importance in\n",
        "    the context of object-oriented programming, particularly concerning inheritance. Its primary significance lies in enabling access to methods and properties of a parent or superclass from  a child or within a subclass.\n",
        "\n",
        "    eg-\n",
        "\n",
        "    super().__init__(Acc_no,Holder_name,balance)\n",
        "\n",
        "21. What is the significance of the __del__ method in Python?\n",
        "\n",
        "-  The `__del__` method in Python is a special method, also known\n",
        "    as a finalizer or destructor. Its significance lies in the fact that it is called when an object is about to be destroyed or garbage collected.\n",
        "\n",
        "    class MyResource:\n",
        "      def __init__(self, name):\n",
        "        self.name = name\n",
        "        print(f\"Resource '{self.name}' created.\")\n",
        "\n",
        "      def __del__(self):\n",
        "        print(f\"Resource '{self.name}' is being destroyed.\")\n",
        "\n",
        "    # Create an instance of the class\n",
        "    resource1 = MyResource(\"File Connection\")\n",
        "    resource1 = None\n",
        "    o/p:\n",
        "    Resource 'File Connection' created.\n",
        "    Resource 'File Connection' is being destroyed.\n",
        "\n",
        "22. What is the difference between @staticmethod and @classmethod   \n",
        "    in Python?\n",
        "\n",
        "-   @classmethod:\n",
        "    Takes the class itself (cls) as its first argument.\n",
        "    Can access and modify class-level attributes and call other class methods.\n",
        "    Commonly used for factory methods, which return instances of the class, potentially with different initializations\n",
        "    \n",
        "      class MyClass:\n",
        "        class_variable = \"I am a class variable\"\n",
        "\n",
        "        @classmethod\n",
        "        def create_instance(cls, value):\n",
        "            # cls refers to MyClass\n",
        "            print(f\"Creating instance using: {cls.class_variable}\")\n",
        "            return cls(value) # Calls the __init__ of the class\n",
        "\n",
        "        def __init__(self, value):\n",
        "            self.value = value\n",
        "    \n",
        "    @staticmethod:\n",
        "    Does not take self (instance) or cls (class) as its first argument.\n",
        "    Behaves like a regular function but is logically grouped within a class.\n",
        "    Cannot access or modify class or instance state directly.\n",
        "    eg\n",
        "\n",
        "        class MyClass:\n",
        "            @staticmethod\n",
        "            def calculate_sum(a, b):\n",
        "            # No access to self or cls\n",
        "            return a + b\n",
        "\n",
        "      # Usage\n",
        "      result = MyClass.calculate_sum(5,6)\n",
        "\n",
        "23. How does polymorphism work in Python with inheritance?\n",
        "-   Polymorphism in Python, when combined with inheritance, allows\n",
        "    objects of different classes that share a common superclass to be treated uniformly through a shared interface, even though their specific implementations of that interface may differ.\n",
        "\n",
        "    class Animal:\n",
        "      def speak(self):\n",
        "        print(\"Generic animal sound\")\n",
        "\n",
        "    class Dog(Animal):\n",
        "      def speak(self):  # Overriding the speak method\n",
        "        print(\"Woof!\")\n",
        "\n",
        "    class Cat(Animal):\n",
        "      def speak(self):  # Overriding the speak method\n",
        "        print(\"Meow!\")\n",
        "\n",
        "    animals = [Dog(), Cat(), Animal()]\n",
        "\n",
        "    for animal in animals:\n",
        "      animal.speak()\n",
        "    o/p\n",
        "      Woof!\n",
        "      Meow!\n",
        "      eneric animal sound\n",
        "\n",
        "24.  What is method chaining in Python OOP?\n",
        "-    Method chaining in Python Object-Oriented Programming (OOP) is\n",
        "    a technique that allows for the sequential invocation of multiple methods on the same object within a single line of code. This is achieved by having each method in the chain return the instance of the object itself (self).\n",
        "\n",
        "    eg-\n",
        "    class Calculator:\n",
        "    def __init__(self, value=0):\n",
        "        self.value = value\n",
        "\n",
        "    def add(self, num):\n",
        "        self.value += num\n",
        "        return self  # Important for chaining\n",
        "\n",
        "    def subtract(self, num):\n",
        "        self.value -= num\n",
        "        return self  # Important for chaining\n",
        "\n",
        "    def get_result(self):\n",
        "        return self.value\n",
        "\n",
        "    # Chaining methods\n",
        "    result = Calculator(10).add(5).subtract(2).get_result()\n",
        "    print(result)\n",
        "    o/p\n",
        "    13\n",
        "\n",
        "25. What is the purpose of the __call__ method in Python ?\n",
        "\n",
        "-   cclass My_decorator:\n",
        "  def __init__(self,func):\n",
        "    self.func=func\n",
        "\n",
        "  def __call__(self, *args, **kwargs):\n",
        "    print(\"something happening before function\")\n",
        "    return self.func(*args, **kwargs)\n",
        "\n",
        "    @My_decorator\n",
        "    def say_hello():\n",
        "    print(\"hello\")\n",
        "  \n",
        "    obj1()\n",
        "\n",
        "    o/p\n",
        "    something happening before function\n",
        "    something happening before function\n",
        "    hello\n",
        "\n",
        "\n",
        "\n",
        "\n",
        "\n",
        "\n",
        "\n"
      ],
      "metadata": {
        "id": "ou_FUrH1oWnD"
      }
    },
    {
      "cell_type": "code",
      "source": [
        "# Pratical Question\n",
        "'''1.Create a parent class Animal with a method speak() that prints a generic message. Create a child class Dog\n",
        "that overrides the speak() method to print \"Bark!\".'''\n",
        "\n",
        "class Animal:\n",
        "  def speak(self):\n",
        "    print(\"Generic animal sound\")\n",
        "\n",
        "class Dog(Animal):\n",
        "  def speak(self):  # Overriding the speak method\n",
        "    print(\"Bark!\")\n",
        "\n",
        "dog1=Dog()\n",
        "dog1.speak()"
      ],
      "metadata": {
        "colab": {
          "base_uri": "https://localhost:8080/"
        },
        "id": "NPQghcZUMVhX",
        "outputId": "eeac6e2e-f734-482f-b453-cb33b23b8056"
      },
      "execution_count": null,
      "outputs": [
        {
          "output_type": "stream",
          "name": "stdout",
          "text": [
            "Bark!\n"
          ]
        }
      ]
    },
    {
      "cell_type": "code",
      "source": [
        "'''2.Write a program to create an abstract class Shape with a method area(). Derive classes Circle and Rectangle\n",
        "  from it and implement the area() method in both.'''\n",
        "\n",
        "from abc import ABC, abstractmethod\n",
        "class Shape (ABC):\n",
        "  @abstractmethod\n",
        "  def area(self):\n",
        "    pass\n",
        "\n",
        "class Circle(Shape):\n",
        "  def area(self,radius):\n",
        "    return 3.14*radius**2\n",
        "\n",
        "class Rectangle(Shape):\n",
        "  def area(self,length,width):\n",
        "    return length*width\n",
        "\n",
        "circle1=Circle()\n",
        "print(circle1.area(8))\n",
        "rectangle1=Rectangle()\n",
        "print(rectangle1.area(7,6))"
      ],
      "metadata": {
        "colab": {
          "base_uri": "https://localhost:8080/"
        },
        "id": "-RcX4qwpMVeQ",
        "outputId": "66454a80-c00e-4de9-b2b0-87c90ccfe2cf"
      },
      "execution_count": null,
      "outputs": [
        {
          "output_type": "stream",
          "name": "stdout",
          "text": [
            "200.96\n",
            "42\n"
          ]
        }
      ]
    },
    {
      "cell_type": "code",
      "source": [
        "'''3. Implement a multi-level inheritance scenario where a class Vehicle has an attribute type. Derive a class Car\n",
        "and further derive a class ElectricCar that adds a battery attribute.'''\n",
        "\n",
        "class Vehicle:\n",
        "  def __init__(self, type):\n",
        "    self.type = type\n",
        "\n",
        "class Car(Vehicle):\n",
        "  def __init__(self,type,battery):\n",
        "    super().__init__(type)\n",
        "    self.battery= battery\n",
        "\n",
        "class ElectricCar(Vehicle):\n",
        "  def __init__(self,type,battery):\n",
        "    super().__init__(type)\n",
        "    self.battery =battery\n",
        "\n",
        "\n",
        "# Example usage:\n",
        "my_car= Car(\"Car\",26)\n",
        "my_electric_car = ElectricCar(\"Electric Car\", 35)\n",
        "\n",
        "#print(f\"Type: {my_electric_car.type}\")\n",
        "#print(f\"Model: {my_electric_car.model}\")\n",
        "print(f\"Battery Capacity: {my_electric_car.battery+my_car.battery}\")"
      ],
      "metadata": {
        "colab": {
          "base_uri": "https://localhost:8080/"
        },
        "id": "tg-nPjaaSPSg",
        "outputId": "e6204848-2ad2-4f45-d938-f86352a32ca7"
      },
      "execution_count": null,
      "outputs": [
        {
          "output_type": "stream",
          "name": "stdout",
          "text": [
            "Battery Capacity: 61\n"
          ]
        }
      ]
    },
    {
      "cell_type": "code",
      "source": [
        "'''4.Demonstrate polymorphism by creating a base class Bird with a method fly(). Create two derived classes\n",
        "Sparrow and Penguin that override the fly() method'''\n",
        "\n",
        "class Bird:\n",
        "  def fly(self):\n",
        "    print(\"Generic bird flying\")\n",
        "\n",
        "class Sparrow(Bird):\n",
        "  def fly(self):\n",
        "    print(\"Sparrow flying\")\n",
        "\n",
        "class Penguin(Bird):\n",
        "  def fly(self):\n",
        "    print(\"Penguin cannot fly\")\n",
        "Sp=Sparrow()\n",
        "Sp.fly()\n",
        "Pe=Penguin()\n",
        "Pe.fly()"
      ],
      "metadata": {
        "id": "lDgQdOVVgV1w",
        "colab": {
          "base_uri": "https://localhost:8080/"
        },
        "outputId": "2e7390eb-a356-4b2e-efcb-652b1d3c26d8"
      },
      "execution_count": null,
      "outputs": [
        {
          "output_type": "stream",
          "name": "stdout",
          "text": [
            "Sparrow flying\n",
            "Penguin cannot fly\n"
          ]
        }
      ]
    },
    {
      "cell_type": "code",
      "source": [
        "'''5.Write a program to demonstrate encapsulation by creating a class BankAccount with private attributes\n",
        "balance and methods to deposit, withdraw, and check balance'''\n",
        "\n",
        "class BankAccount:\n",
        "  def __init__(self,balance):\n",
        "    self.__balance=balance\n",
        "\n",
        "  def deposit(self,amount):\n",
        "    self.__balance+=amount\n",
        "\n",
        "  def withdraw(self,amount):\n",
        "    if amount<=self.__balance:\n",
        "      self.__balance-=amount\n",
        "    else:\n",
        "      print(\"Insufficient balance\")\n",
        "\n",
        "  def check_balance(self):\n",
        "    return self.__balance\n",
        "\n",
        "account1=BankAccount(1000)\n",
        "account1.deposit(500)\n",
        "account1.withdraw(200)\n",
        "print(account1.check_balance())"
      ],
      "metadata": {
        "colab": {
          "base_uri": "https://localhost:8080/"
        },
        "id": "uQDF7AOG62Mg",
        "outputId": "72299fcf-c2fb-4f53-c381-8b9c0d67e8a3"
      },
      "execution_count": null,
      "outputs": [
        {
          "output_type": "stream",
          "name": "stdout",
          "text": [
            "1300\n"
          ]
        }
      ]
    },
    {
      "cell_type": "code",
      "source": [
        "'''6.Demonstrate runtime polymorphism using a method play() in a base class Instrument. Derive classes Guitar\n",
        "and Piano that implement their own version of play()'''\n",
        "class Instrument:\n",
        "  def play(self):\n",
        "    print(\"Generic instrument playing\")\n",
        "\n",
        "class Guitar(Instrument):\n",
        "  def play(self):\n",
        "    print(\"Guitar playing\")\n",
        "\n",
        "class Piano(Instrument):\n",
        "  def play(self):\n",
        "    print(\"Piano playing\")\n",
        "Guit1=Guitar()\n",
        "Guit1.play()\n",
        "Pi1=Piano()\n",
        "Pi1.play()"
      ],
      "metadata": {
        "colab": {
          "base_uri": "https://localhost:8080/"
        },
        "id": "qUGXHY-U7l1v",
        "outputId": "c10ace52-8bd1-491d-fd43-546f476b1f92"
      },
      "execution_count": null,
      "outputs": [
        {
          "output_type": "stream",
          "name": "stdout",
          "text": [
            "Guitar playing\n",
            "Piano playing\n"
          ]
        }
      ]
    },
    {
      "cell_type": "code",
      "source": [
        "'''7.Create a class MathOperations with a class method add_numbers() to add two numbers and a static\n",
        "method subtract_numbers() to subtract two numbers'''\n",
        "\n",
        "class MathOperations:\n",
        "  def __init__(self,x,y):\n",
        "    self.x=x\n",
        "    self.y=y\n",
        "\n",
        "  @classmethod\n",
        "  def add_numbers(cls,x,y):# here first agr is cls\n",
        "    return x+y\n",
        "\n",
        "  @staticmethod\n",
        "  def subtract_numbers(x,y):# here first arg is not cls or self\n",
        "    return x-y\n",
        "\n",
        "#m1=MathOperations()// No need of making obj once class method or static is declared\n",
        "print(MathOperations.add_numbers(10,5))\n",
        "print(MathOperations.subtract_numbers(4,5))\n",
        "\n"
      ],
      "metadata": {
        "colab": {
          "base_uri": "https://localhost:8080/"
        },
        "id": "WdbhqAjT8017",
        "outputId": "26035644-c1ec-401e-9d56-e6f93e85d6d3"
      },
      "execution_count": null,
      "outputs": [
        {
          "output_type": "stream",
          "name": "stdout",
          "text": [
            "15\n",
            "-1\n"
          ]
        }
      ]
    },
    {
      "cell_type": "code",
      "source": [
        "'''8.Implement a class Person with a class method to count the total number of persons created.'''\n",
        "class Person:\n",
        "  count = 0  # Class variable to keep track of person count\n",
        "\n",
        "  def __init__(self, name):\n",
        "    self.name = name\n",
        "    Person.count += 1  # Increment count when a new person is created\n",
        "\n",
        "  @classmethod  # Define get_count as a class method\n",
        "  def get_count(cls):\n",
        "    return cls.count\n",
        "\n",
        "# Example usage:\n",
        "P1 = Person(\"Ajay\")\n",
        "P2 = Person(\"Raj\")\n",
        "print(Person.get_count())"
      ],
      "metadata": {
        "colab": {
          "base_uri": "https://localhost:8080/"
        },
        "id": "6favpQBz-tvO",
        "outputId": "9ec0aefb-3814-4285-cddb-0c842742ed64"
      },
      "execution_count": null,
      "outputs": [
        {
          "output_type": "stream",
          "name": "stdout",
          "text": [
            "2\n"
          ]
        }
      ]
    },
    {
      "cell_type": "code",
      "source": [
        "'''9.Write a class Fraction with attributes numerator and denominator. Override the str method to display the\n",
        "fraction as \"numerator/denominator\".'''\n",
        "class Fraction:\n",
        "  def __init__(self,numerator,denominator):\n",
        "    self.numerator=numerator\n",
        "    self.denominator=denominator\n",
        "\n",
        "  def display(self):\n",
        "    print(f\"{self.numerator}/{self.denominator}\")\n",
        "\n",
        "  #def str(self):\n",
        "    #return f\"{self.numerator}/{self.denominator}\"\n",
        "\n",
        "f1=Fraction(10,20)\n",
        "f1.display()"
      ],
      "metadata": {
        "colab": {
          "base_uri": "https://localhost:8080/"
        },
        "id": "J5VmmHVeA2k7",
        "outputId": "e1c55ad4-cf82-4c25-8818-f242928d2e89"
      },
      "execution_count": null,
      "outputs": [
        {
          "output_type": "stream",
          "name": "stdout",
          "text": [
            "10/20\n"
          ]
        }
      ]
    },
    {
      "cell_type": "code",
      "source": [
        "'''10.Demonstrate operator overloading by creating a class Vector and overriding the add method to add two\n",
        "vectors.'''\n",
        "class Vector:\n",
        "  def Add(self,x,y):\n",
        "    return x+y\n",
        "\n",
        "V1=Vector()\n",
        "print(V1.Add(10,20))"
      ],
      "metadata": {
        "colab": {
          "base_uri": "https://localhost:8080/"
        },
        "id": "1spICtuyCUH7",
        "outputId": "4c62e11d-f0d1-455d-9196-1f670494a608"
      },
      "execution_count": null,
      "outputs": [
        {
          "output_type": "stream",
          "name": "stdout",
          "text": [
            "30\n"
          ]
        }
      ]
    },
    {
      "cell_type": "code",
      "source": [
        "'''11.Create a class Person with attributes name and age. Add a method greet() that prints \"Hello, my name is\n",
        "{name} and I am {age} years old.\"'''\n",
        "class Person:\n",
        "  def __init__(self,name,age):\n",
        "    self.name=name\n",
        "    self.age=age\n",
        "  def greet(self):\n",
        "      print(f\"Hello,my name is {self.name} and I am {self.age} years old\")\n",
        "\n",
        "P1=Person(\"Ajay\",20)\n",
        "P1.greet()"
      ],
      "metadata": {
        "id": "CeZT6RaPDK-p",
        "colab": {
          "base_uri": "https://localhost:8080/"
        },
        "outputId": "fc533bc6-a562-46da-c86a-8b49f42b0fe1"
      },
      "execution_count": 31,
      "outputs": [
        {
          "output_type": "stream",
          "name": "stdout",
          "text": [
            "Hello,my name is Ajay and I am 20 years old\n"
          ]
        }
      ]
    },
    {
      "cell_type": "code",
      "source": [
        "'''12 Implement a class Student with attributes name and grades. Create a method average_grade() to compute\n",
        "the average of the grades.'''\n",
        "class Student:\n",
        "  def __init__(self,name,grades):\n",
        "    self.name=name\n",
        "    self.grades=grades\n",
        "  def average_grade(self):\n",
        "    return sum(self.grades)/len(self.grades)\n",
        "\n",
        "S1=Student(\"Ajay\",[10,20,30])\n",
        "print(S1.average_grade())"
      ],
      "metadata": {
        "colab": {
          "base_uri": "https://localhost:8080/"
        },
        "id": "Sd6LACUzFd_H",
        "outputId": "7ad3a158-5ec6-4e36-dd91-37e35e38aa65"
      },
      "execution_count": 32,
      "outputs": [
        {
          "output_type": "stream",
          "name": "stdout",
          "text": [
            "20.0\n"
          ]
        }
      ]
    },
    {
      "cell_type": "code",
      "source": [
        "'''13.Create a class Rectangle with methods set_dimensions() to set the dimensions and area() to calculate the\n",
        "area.'''\n",
        "class Rectangle:\n",
        "  def __init__(self,length,width):\n",
        "    self.length=length\n",
        "    self.width=width\n",
        "  def set_dimensions(self,length,width):\n",
        "    self.length=length\n",
        "    self.width=width\n",
        "  def area(self):\n",
        "    return self.length*self.width\n",
        "\n",
        "R1=Rectangle(10,20)\n",
        "R1.set_dimensions(20,30)\n",
        "print(R1.area())\n"
      ],
      "metadata": {
        "colab": {
          "base_uri": "https://localhost:8080/"
        },
        "id": "GopiUREpGxct",
        "outputId": "fa4855b5-59c9-4916-f8df-3b41b2a12350"
      },
      "execution_count": 37,
      "outputs": [
        {
          "output_type": "stream",
          "name": "stdout",
          "text": [
            "600\n"
          ]
        }
      ]
    },
    {
      "cell_type": "code",
      "source": [
        "'''14.Create a class Employee with a method calculate_salary() that computes the salary based on hours worked\n",
        "and hourly rate. Create a derived class Manager that adds a bonus to the salary'''\n",
        "class Employee:\n",
        "  def __init__(self,name,hours_worked,hourly_rate):\n",
        "    self.name=name\n",
        "    self.hours_worked=hours_worked\n",
        "    self.hourly_rate=hourly_rate\n",
        "  def calculate_salary(self):\n",
        "    return self.hours_worked*self.hourly_rate\n",
        "\n",
        "class Manager(Employee):\n",
        "  def __init__(self,name,hours_worked,hourly_rate,bonus):\n",
        "    super().__init__(name,hours_worked,hourly_rate)\n",
        "    self.bonus=bonus\n",
        "\n",
        "  def calculate_salary(self): # Override calculate_salary to include bonus\n",
        "    return print(super().calculate_salary() + self.bonus)\n",
        "\n",
        "# Example usage:\n",
        "#E1=Employee(\"Ajay\",100,10)\n",
        "#print(f\"Employee Salary: {E1.calculate_salary()}\")\n",
        "M1 = Manager(\"Rahul\", 100, 10, 500)\n",
        "M1.calculate_salary()\n",
        "#print(f\"Manager Salary: {M1.calculate_salary()}\")"
      ],
      "metadata": {
        "colab": {
          "base_uri": "https://localhost:8080/"
        },
        "id": "xELZFi79HTvV",
        "outputId": "0f5d2d73-8d1c-44f6-9f5a-0849dbf0ea03"
      },
      "execution_count": 43,
      "outputs": [
        {
          "output_type": "stream",
          "name": "stdout",
          "text": [
            "1500\n"
          ]
        }
      ]
    },
    {
      "cell_type": "code",
      "source": [
        "'''15.Create a class Product with attributes name, price, and quantity. Implement a method total_price() that\n",
        "calculates the total price of the product.'''\n",
        "class Product:\n",
        "  def __init__(self,name,price,quantity):\n",
        "    self.name=name\n",
        "    self.price=price\n",
        "    self.quantity=quantity\n",
        "  def total_price(self):\n",
        "    return self.price*self.quantity\n",
        "P1= Product(\"Ajay\",20,10)\n",
        "print(P1.name,P1.total_price())"
      ],
      "metadata": {
        "colab": {
          "base_uri": "https://localhost:8080/"
        },
        "id": "6FR9CrahI1ba",
        "outputId": "f934b1fc-fe04-4635-ca26-86b359019e76"
      },
      "execution_count": 9,
      "outputs": [
        {
          "output_type": "stream",
          "name": "stdout",
          "text": [
            "Ajay 200\n"
          ]
        }
      ]
    },
    {
      "cell_type": "code",
      "source": [
        "\"\"\"Create a class Animal with an abstract method sound(). Create two derived classes Cow and Sheep that\n",
        "implement the sound() method.\"\"\"\n",
        "from abc import ABC, abstractmethod\n",
        "class Animal(ABC):\n",
        "  @abstractmethod\n",
        "  def sound(self):\n",
        "    pass\n",
        "\n",
        "class Cow(Animal):\n",
        "  def sound(self):\n",
        "    print(\"Moo\")\n",
        "\n",
        "class Sheep(Animal):\n",
        "  def sound(self):\n",
        "    print(\"Baa\")\n",
        "\n",
        "C1=Cow()\n",
        "C1.sound()\n",
        "S1=Sheep()\n",
        "S1.sound()"
      ],
      "metadata": {
        "colab": {
          "base_uri": "https://localhost:8080/"
        },
        "id": "TGJLN5NkM1Ri",
        "outputId": "992c048d-6344-4a90-a1fc-07c4459ba455"
      },
      "execution_count": 10,
      "outputs": [
        {
          "output_type": "stream",
          "name": "stdout",
          "text": [
            "Moo\n",
            "Baa\n"
          ]
        }
      ]
    },
    {
      "cell_type": "code",
      "source": [
        "\"\"\"17.Create a class Book with attributes title, author, and year_published. Add a method get_book_info() that\n",
        "returns a formatted string with the book's details.\"\"\"\n",
        "class Book:\n",
        "  def __init__(self,title,author,year_published):\n",
        "    self.title=title\n",
        "    self.author=author\n",
        "    self.year_published=year_published\n",
        "  def get_book_info(self):\n",
        "    print(self.title,self.author,self.year_published)\n",
        "\n",
        "B1=Book(\"Python\",\"Ajay\",2023)\n",
        "B1.get_book_info()\n",
        ""
      ],
      "metadata": {
        "colab": {
          "base_uri": "https://localhost:8080/"
        },
        "id": "0Ntev2DpOHLx",
        "outputId": "762c85d5-1df3-4dae-f206-c95f1bf18244"
      },
      "execution_count": 12,
      "outputs": [
        {
          "output_type": "stream",
          "name": "stdout",
          "text": [
            "Python Ajay 2023\n"
          ]
        }
      ]
    },
    {
      "cell_type": "code",
      "source": [
        "\"\"\"18.Create a class House with attributes address and price. Create a derived class Mansion that adds an\n",
        "attribute number_of_rooms.\"\"\"\n",
        "class House:\n",
        "  def __init__(self,address,price):\n",
        "    self.address=address\n",
        "    self.price=price\n",
        "class Mansion(House):\n",
        "  def __init__(self,address,price,number_of_rooms):\n",
        "    super().__init__(address,price)\n",
        "    self.number_of_rooms=number_of_rooms\n",
        "\n",
        "  def Add(self):\n",
        "    print(self.address,self.price,self.number_of_rooms)\n",
        "\n",
        "Man1=Mansion(\"Delhi\",1000,20)\n",
        "Man1.Add()\n",
        "Man2=Mansion(\"Mumbai\",2000,30)\n",
        "Man2.Add()\n"
      ],
      "metadata": {
        "colab": {
          "base_uri": "https://localhost:8080/"
        },
        "id": "chY3T3E3OqYK",
        "outputId": "c5c55d50-7a72-46f4-b4c6-9e3db4c776f6"
      },
      "execution_count": 16,
      "outputs": [
        {
          "output_type": "stream",
          "name": "stdout",
          "text": [
            "Delhi 1000 20\n",
            "Mumbai 2000 30\n"
          ]
        }
      ]
    },
    {
      "cell_type": "code",
      "source": [],
      "metadata": {
        "id": "_3x7tAKUQ4sL"
      },
      "execution_count": null,
      "outputs": []
    }
  ]
}